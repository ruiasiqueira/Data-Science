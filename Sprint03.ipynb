{
 "cells": [
  {
   "cell_type": "markdown",
   "metadata": {},
   "source": [
    "## Importação de bibliotecas"
   ]
  },
  {
   "cell_type": "code",
   "execution_count": 2,
   "metadata": {},
   "outputs": [],
   "source": [
    "import pandas as pd\n",
    "import seaborn as sns\n",
    "from sklearn.linear_model import LogisticRegression\n",
    "from sklearn.model_selection import train_test_split\n",
    "from sklearn.preprocessing import MinMaxScaler\n",
    "import matplotlib.pyplot as plt"
   ]
  },
  {
   "cell_type": "markdown",
   "metadata": {},
   "source": [
    "## Análise inicial do dataframe"
   ]
  },
  {
   "cell_type": "code",
   "execution_count": 3,
   "metadata": {},
   "outputs": [
    {
     "data": {
      "text/html": [
       "<div>\n",
       "<style scoped>\n",
       "    .dataframe tbody tr th:only-of-type {\n",
       "        vertical-align: middle;\n",
       "    }\n",
       "\n",
       "    .dataframe tbody tr th {\n",
       "        vertical-align: top;\n",
       "    }\n",
       "\n",
       "    .dataframe thead th {\n",
       "        text-align: right;\n",
       "    }\n",
       "</style>\n",
       "<table border=\"1\" class=\"dataframe\">\n",
       "  <thead>\n",
       "    <tr style=\"text-align: right;\">\n",
       "      <th></th>\n",
       "      <th>Diabetes_012</th>\n",
       "      <th>HighBP</th>\n",
       "      <th>HighChol</th>\n",
       "      <th>CholCheck</th>\n",
       "      <th>BMI</th>\n",
       "      <th>Smoker</th>\n",
       "      <th>Stroke</th>\n",
       "      <th>HeartDiseaseorAttack</th>\n",
       "      <th>PhysActivity</th>\n",
       "      <th>Fruits</th>\n",
       "      <th>...</th>\n",
       "      <th>AnyHealthcare</th>\n",
       "      <th>NoDocbcCost</th>\n",
       "      <th>GenHlth</th>\n",
       "      <th>MentHlth</th>\n",
       "      <th>PhysHlth</th>\n",
       "      <th>DiffWalk</th>\n",
       "      <th>Sex</th>\n",
       "      <th>Age</th>\n",
       "      <th>Education</th>\n",
       "      <th>Income</th>\n",
       "    </tr>\n",
       "  </thead>\n",
       "  <tbody>\n",
       "    <tr>\n",
       "      <th>0</th>\n",
       "      <td>0.0</td>\n",
       "      <td>1.0</td>\n",
       "      <td>1.0</td>\n",
       "      <td>1.0</td>\n",
       "      <td>40.0</td>\n",
       "      <td>1.0</td>\n",
       "      <td>0.0</td>\n",
       "      <td>0.0</td>\n",
       "      <td>0.0</td>\n",
       "      <td>0.0</td>\n",
       "      <td>...</td>\n",
       "      <td>1.0</td>\n",
       "      <td>0.0</td>\n",
       "      <td>5.0</td>\n",
       "      <td>18.0</td>\n",
       "      <td>15.0</td>\n",
       "      <td>1.0</td>\n",
       "      <td>0.0</td>\n",
       "      <td>9.0</td>\n",
       "      <td>4.0</td>\n",
       "      <td>3.0</td>\n",
       "    </tr>\n",
       "    <tr>\n",
       "      <th>1</th>\n",
       "      <td>0.0</td>\n",
       "      <td>0.0</td>\n",
       "      <td>0.0</td>\n",
       "      <td>0.0</td>\n",
       "      <td>25.0</td>\n",
       "      <td>1.0</td>\n",
       "      <td>0.0</td>\n",
       "      <td>0.0</td>\n",
       "      <td>1.0</td>\n",
       "      <td>0.0</td>\n",
       "      <td>...</td>\n",
       "      <td>0.0</td>\n",
       "      <td>1.0</td>\n",
       "      <td>3.0</td>\n",
       "      <td>0.0</td>\n",
       "      <td>0.0</td>\n",
       "      <td>0.0</td>\n",
       "      <td>0.0</td>\n",
       "      <td>7.0</td>\n",
       "      <td>6.0</td>\n",
       "      <td>1.0</td>\n",
       "    </tr>\n",
       "    <tr>\n",
       "      <th>2</th>\n",
       "      <td>0.0</td>\n",
       "      <td>1.0</td>\n",
       "      <td>1.0</td>\n",
       "      <td>1.0</td>\n",
       "      <td>28.0</td>\n",
       "      <td>0.0</td>\n",
       "      <td>0.0</td>\n",
       "      <td>0.0</td>\n",
       "      <td>0.0</td>\n",
       "      <td>1.0</td>\n",
       "      <td>...</td>\n",
       "      <td>1.0</td>\n",
       "      <td>1.0</td>\n",
       "      <td>5.0</td>\n",
       "      <td>30.0</td>\n",
       "      <td>30.0</td>\n",
       "      <td>1.0</td>\n",
       "      <td>0.0</td>\n",
       "      <td>9.0</td>\n",
       "      <td>4.0</td>\n",
       "      <td>8.0</td>\n",
       "    </tr>\n",
       "    <tr>\n",
       "      <th>3</th>\n",
       "      <td>0.0</td>\n",
       "      <td>1.0</td>\n",
       "      <td>0.0</td>\n",
       "      <td>1.0</td>\n",
       "      <td>27.0</td>\n",
       "      <td>0.0</td>\n",
       "      <td>0.0</td>\n",
       "      <td>0.0</td>\n",
       "      <td>1.0</td>\n",
       "      <td>1.0</td>\n",
       "      <td>...</td>\n",
       "      <td>1.0</td>\n",
       "      <td>0.0</td>\n",
       "      <td>2.0</td>\n",
       "      <td>0.0</td>\n",
       "      <td>0.0</td>\n",
       "      <td>0.0</td>\n",
       "      <td>0.0</td>\n",
       "      <td>11.0</td>\n",
       "      <td>3.0</td>\n",
       "      <td>6.0</td>\n",
       "    </tr>\n",
       "    <tr>\n",
       "      <th>4</th>\n",
       "      <td>0.0</td>\n",
       "      <td>1.0</td>\n",
       "      <td>1.0</td>\n",
       "      <td>1.0</td>\n",
       "      <td>24.0</td>\n",
       "      <td>0.0</td>\n",
       "      <td>0.0</td>\n",
       "      <td>0.0</td>\n",
       "      <td>1.0</td>\n",
       "      <td>1.0</td>\n",
       "      <td>...</td>\n",
       "      <td>1.0</td>\n",
       "      <td>0.0</td>\n",
       "      <td>2.0</td>\n",
       "      <td>3.0</td>\n",
       "      <td>0.0</td>\n",
       "      <td>0.0</td>\n",
       "      <td>0.0</td>\n",
       "      <td>11.0</td>\n",
       "      <td>5.0</td>\n",
       "      <td>4.0</td>\n",
       "    </tr>\n",
       "  </tbody>\n",
       "</table>\n",
       "<p>5 rows × 22 columns</p>\n",
       "</div>"
      ],
      "text/plain": [
       "   Diabetes_012  HighBP  HighChol  CholCheck   BMI  Smoker  Stroke  \\\n",
       "0           0.0     1.0       1.0        1.0  40.0     1.0     0.0   \n",
       "1           0.0     0.0       0.0        0.0  25.0     1.0     0.0   \n",
       "2           0.0     1.0       1.0        1.0  28.0     0.0     0.0   \n",
       "3           0.0     1.0       0.0        1.0  27.0     0.0     0.0   \n",
       "4           0.0     1.0       1.0        1.0  24.0     0.0     0.0   \n",
       "\n",
       "   HeartDiseaseorAttack  PhysActivity  Fruits  ...  AnyHealthcare  \\\n",
       "0                   0.0           0.0     0.0  ...            1.0   \n",
       "1                   0.0           1.0     0.0  ...            0.0   \n",
       "2                   0.0           0.0     1.0  ...            1.0   \n",
       "3                   0.0           1.0     1.0  ...            1.0   \n",
       "4                   0.0           1.0     1.0  ...            1.0   \n",
       "\n",
       "   NoDocbcCost  GenHlth  MentHlth  PhysHlth  DiffWalk  Sex   Age  Education  \\\n",
       "0          0.0      5.0      18.0      15.0       1.0  0.0   9.0        4.0   \n",
       "1          1.0      3.0       0.0       0.0       0.0  0.0   7.0        6.0   \n",
       "2          1.0      5.0      30.0      30.0       1.0  0.0   9.0        4.0   \n",
       "3          0.0      2.0       0.0       0.0       0.0  0.0  11.0        3.0   \n",
       "4          0.0      2.0       3.0       0.0       0.0  0.0  11.0        5.0   \n",
       "\n",
       "   Income  \n",
       "0     3.0  \n",
       "1     1.0  \n",
       "2     8.0  \n",
       "3     6.0  \n",
       "4     4.0  \n",
       "\n",
       "[5 rows x 22 columns]"
      ]
     },
     "execution_count": 3,
     "metadata": {},
     "output_type": "execute_result"
    }
   ],
   "source": [
    "# Leitura do dataset\n",
    "dataframe = pd.read_csv('Sprint3_Diabetes.csv')\n",
    "# Apresentação dos primeiros 5 valores\n",
    "dataframe.head()"
   ]
  },
  {
   "cell_type": "code",
   "execution_count": 4,
   "metadata": {},
   "outputs": [
    {
     "name": "stdout",
     "output_type": "stream",
     "text": [
      "<class 'pandas.core.frame.DataFrame'>\n",
      "RangeIndex: 253680 entries, 0 to 253679\n",
      "Data columns (total 22 columns):\n",
      " #   Column                Non-Null Count   Dtype  \n",
      "---  ------                --------------   -----  \n",
      " 0   Diabetes_012          253680 non-null  float64\n",
      " 1   HighBP                253680 non-null  float64\n",
      " 2   HighChol              253680 non-null  float64\n",
      " 3   CholCheck             253680 non-null  float64\n",
      " 4   BMI                   253680 non-null  float64\n",
      " 5   Smoker                253680 non-null  float64\n",
      " 6   Stroke                253680 non-null  float64\n",
      " 7   HeartDiseaseorAttack  253680 non-null  float64\n",
      " 8   PhysActivity          253680 non-null  float64\n",
      " 9   Fruits                253680 non-null  float64\n",
      " 10  Veggies               253680 non-null  float64\n",
      " 11  HvyAlcoholConsump     253680 non-null  float64\n",
      " 12  AnyHealthcare         253680 non-null  float64\n",
      " 13  NoDocbcCost           253680 non-null  float64\n",
      " 14  GenHlth               253680 non-null  float64\n",
      " 15  MentHlth              253680 non-null  float64\n",
      " 16  PhysHlth              253680 non-null  float64\n",
      " 17  DiffWalk              253680 non-null  float64\n",
      " 18  Sex                   253680 non-null  float64\n",
      " 19  Age                   253680 non-null  float64\n",
      " 20  Education             253680 non-null  float64\n",
      " 21  Income                253680 non-null  float64\n",
      "dtypes: float64(22)\n",
      "memory usage: 42.6 MB\n"
     ]
    }
   ],
   "source": [
    "#Apresentação das principais informações do dataframe\n",
    "dataframe.info()"
   ]
  },
  {
   "cell_type": "markdown",
   "metadata": {},
   "source": [
    "## Tratamento dos dados \n",
    "\n",
    "Será realizado um tratamento de dados para assim evitarmos utilização de dados duplicados ou invalidos, \n",
    "dessa forma teremos uma análise mais precisa."
   ]
  },
  {
   "cell_type": "markdown",
   "metadata": {},
   "source": [
    "### Remoção de duplicatas"
   ]
  },
  {
   "cell_type": "code",
   "execution_count": 5,
   "metadata": {},
   "outputs": [
    {
     "name": "stdout",
     "output_type": "stream",
     "text": [
      "Os dados com duplicatas eram: 253680, e sem duplicatas se tornaram: 229781. Uma diferença de: 23899\n"
     ]
    }
   ],
   "source": [
    "#Número de dados antes da remoção das duplicatas\n",
    "registros_antes = dataframe.shape[0]\n",
    "\n",
    "df = dataframe.drop_duplicates()\n",
    "\n",
    "#Número de dados depois da remoção das duplicatas\n",
    "registros_depois = df.shape[0]\n",
    "\n",
    "#Resultado\n",
    "print(f'Os dados com duplicatas eram: {registros_antes}, e sem duplicatas se tornaram: {registros_depois}. Uma diferença de: {registros_antes-registros_depois}')"
   ]
  },
  {
   "cell_type": "markdown",
   "metadata": {},
   "source": [
    "### Correção de tipo de dados"
   ]
  },
  {
   "cell_type": "code",
   "execution_count": 6,
   "metadata": {},
   "outputs": [
    {
     "name": "stdout",
     "output_type": "stream",
     "text": [
      "Diabetes_012            float64\n",
      "HighBP                  float64\n",
      "HighChol                float64\n",
      "CholCheck               float64\n",
      "BMI                     float64\n",
      "Smoker                  float64\n",
      "Stroke                  float64\n",
      "HeartDiseaseorAttack    float64\n",
      "PhysActivity            float64\n",
      "Fruits                  float64\n",
      "Veggies                 float64\n",
      "HvyAlcoholConsump       float64\n",
      "AnyHealthcare           float64\n",
      "NoDocbcCost             float64\n",
      "GenHlth                 float64\n",
      "MentHlth                float64\n",
      "PhysHlth                float64\n",
      "DiffWalk                float64\n",
      "Sex                     float64\n",
      "Age                     float64\n",
      "Education               float64\n",
      "Income                  float64\n",
      "dtype: object\n",
      "<class 'pandas.core.frame.DataFrame'>\n",
      "Index: 229781 entries, 0 to 253679\n",
      "Data columns (total 22 columns):\n",
      " #   Column                Non-Null Count   Dtype  \n",
      "---  ------                --------------   -----  \n",
      " 0   Diabetes_012          229781 non-null  float64\n",
      " 1   HighBP                229781 non-null  float64\n",
      " 2   HighChol              229781 non-null  float64\n",
      " 3   CholCheck             229781 non-null  float64\n",
      " 4   BMI                   229781 non-null  float64\n",
      " 5   Smoker                229781 non-null  float64\n",
      " 6   Stroke                229781 non-null  float64\n",
      " 7   HeartDiseaseorAttack  229781 non-null  float64\n",
      " 8   PhysActivity          229781 non-null  float64\n",
      " 9   Fruits                229781 non-null  float64\n",
      " 10  Veggies               229781 non-null  float64\n",
      " 11  HvyAlcoholConsump     229781 non-null  float64\n",
      " 12  AnyHealthcare         229781 non-null  float64\n",
      " 13  NoDocbcCost           229781 non-null  float64\n",
      " 14  GenHlth               229781 non-null  float64\n",
      " 15  MentHlth              229781 non-null  float64\n",
      " 16  PhysHlth              229781 non-null  float64\n",
      " 17  DiffWalk              229781 non-null  float64\n",
      " 18  Sex                   229781 non-null  float64\n",
      " 19  Age                   229781 non-null  float64\n",
      " 20  Education             229781 non-null  float64\n",
      " 21  Income                229781 non-null  float64\n",
      "dtypes: float64(22)\n",
      "memory usage: 40.3 MB\n"
     ]
    }
   ],
   "source": [
    "#Vizualizando os tipos de dados de cada coluna\n",
    "print(df.dtypes)\n",
    "df.info()"
   ]
  },
  {
   "cell_type": "code",
   "execution_count": 7,
   "metadata": {},
   "outputs": [
    {
     "name": "stdout",
     "output_type": "stream",
     "text": [
      "[0. 1.]\n",
      "[4. 6. 3. 5. 2. 1.]\n",
      "[3. 1. 8. 6. 4. 7. 2. 5.]\n"
     ]
    }
   ],
   "source": [
    "# Verificando os valores das colunas Sex, Education e Income\n",
    "print(df['Sex'].unique())\n",
    "print(df['Education'].unique())\n",
    "print(df['Income'].unique())"
   ]
  },
  {
   "cell_type": "code",
   "execution_count": 8,
   "metadata": {},
   "outputs": [
    {
     "name": "stderr",
     "output_type": "stream",
     "text": [
      "C:\\Users\\ruiam\\AppData\\Local\\Temp\\ipykernel_17708\\2138749690.py:22: SettingWithCopyWarning: \n",
      "A value is trying to be set on a copy of a slice from a DataFrame.\n",
      "Try using .loc[row_indexer,col_indexer] = value instead\n",
      "\n",
      "See the caveats in the documentation: https://pandas.pydata.org/pandas-docs/stable/user_guide/indexing.html#returning-a-view-versus-a-copy\n",
      "  df['Diabetes_012'] = df['Diabetes_012'].apply(classificarDiabetes)\n",
      "C:\\Users\\ruiam\\AppData\\Local\\Temp\\ipykernel_17708\\2138749690.py:23: SettingWithCopyWarning: \n",
      "A value is trying to be set on a copy of a slice from a DataFrame.\n",
      "Try using .loc[row_indexer,col_indexer] = value instead\n",
      "\n",
      "See the caveats in the documentation: https://pandas.pydata.org/pandas-docs/stable/user_guide/indexing.html#returning-a-view-versus-a-copy\n",
      "  df['Diabetes_012'] = df['Diabetes_012'].astype('category')\n",
      "C:\\Users\\ruiam\\AppData\\Local\\Temp\\ipykernel_17708\\2138749690.py:24: SettingWithCopyWarning: \n",
      "A value is trying to be set on a copy of a slice from a DataFrame.\n",
      "Try using .loc[row_indexer,col_indexer] = value instead\n",
      "\n",
      "See the caveats in the documentation: https://pandas.pydata.org/pandas-docs/stable/user_guide/indexing.html#returning-a-view-versus-a-copy\n",
      "  df['GenHlth'] = df['GenHlth'].apply(classficarGenHealth)\n",
      "C:\\Users\\ruiam\\AppData\\Local\\Temp\\ipykernel_17708\\2138749690.py:25: SettingWithCopyWarning: \n",
      "A value is trying to be set on a copy of a slice from a DataFrame.\n",
      "Try using .loc[row_indexer,col_indexer] = value instead\n",
      "\n",
      "See the caveats in the documentation: https://pandas.pydata.org/pandas-docs/stable/user_guide/indexing.html#returning-a-view-versus-a-copy\n",
      "  df['GenHlth'] = df['GenHlth'].astype('category')\n",
      "C:\\Users\\ruiam\\AppData\\Local\\Temp\\ipykernel_17708\\2138749690.py:26: SettingWithCopyWarning: \n",
      "A value is trying to be set on a copy of a slice from a DataFrame.\n",
      "Try using .loc[row_indexer,col_indexer] = value instead\n",
      "\n",
      "See the caveats in the documentation: https://pandas.pydata.org/pandas-docs/stable/user_guide/indexing.html#returning-a-view-versus-a-copy\n",
      "  df['Sex'] = df['Sex'].astype('category')\n",
      "C:\\Users\\ruiam\\AppData\\Local\\Temp\\ipykernel_17708\\2138749690.py:27: SettingWithCopyWarning: \n",
      "A value is trying to be set on a copy of a slice from a DataFrame.\n",
      "Try using .loc[row_indexer,col_indexer] = value instead\n",
      "\n",
      "See the caveats in the documentation: https://pandas.pydata.org/pandas-docs/stable/user_guide/indexing.html#returning-a-view-versus-a-copy\n",
      "  df['Sex'] = df['Sex'].apply(lambda x: 'Masculino' if x==1 else 'Feminino')\n",
      "C:\\Users\\ruiam\\AppData\\Local\\Temp\\ipykernel_17708\\2138749690.py:28: SettingWithCopyWarning: \n",
      "A value is trying to be set on a copy of a slice from a DataFrame.\n",
      "Try using .loc[row_indexer,col_indexer] = value instead\n",
      "\n",
      "See the caveats in the documentation: https://pandas.pydata.org/pandas-docs/stable/user_guide/indexing.html#returning-a-view-versus-a-copy\n",
      "  df['Education'] = df['Education'].astype('category')\n",
      "C:\\Users\\ruiam\\AppData\\Local\\Temp\\ipykernel_17708\\2138749690.py:29: SettingWithCopyWarning: \n",
      "A value is trying to be set on a copy of a slice from a DataFrame.\n",
      "Try using .loc[row_indexer,col_indexer] = value instead\n",
      "\n",
      "See the caveats in the documentation: https://pandas.pydata.org/pandas-docs/stable/user_guide/indexing.html#returning-a-view-versus-a-copy\n",
      "  df['Income'] = df['Income'].astype('category')\n"
     ]
    }
   ],
   "source": [
    "# Convertendo as colunas Sex, Education e Income para category\n",
    "df_original = df.copy()\n",
    "\n",
    "def classificarDiabetes(valor):\n",
    "    if valor == 0:\n",
    "        return 'Sem Diabetes'\n",
    "    elif valor ==1:\n",
    "        return 'Pré Diabetes'\n",
    "    return 'Diabetes'\n",
    "\n",
    "def classficarGenHealth(valor):\n",
    "    if valor == 1:\n",
    "        return 'Excelente'\n",
    "    elif valor == 2:\n",
    "        return 'Muito boa'\n",
    "    elif valor == 3:\n",
    "        return 'Boa'\n",
    "    elif valor == 4:\n",
    "        return 'Regular'\n",
    "    return 'Ruim' \n",
    "\n",
    "df['Diabetes_012'] = df['Diabetes_012'].apply(classificarDiabetes)\n",
    "df['Diabetes_012'] = df['Diabetes_012'].astype('category')\n",
    "df['GenHlth'] = df['GenHlth'].apply(classficarGenHealth)\n",
    "df['GenHlth'] = df['GenHlth'].astype('category')\n",
    "df['Sex'] = df['Sex'].astype('category')\n",
    "df['Sex'] = df['Sex'].apply(lambda x: 'Masculino' if x==1 else 'Feminino')\n",
    "df['Education'] = df['Education'].astype('category')\n",
    "df['Income'] = df['Income'].astype('category')"
   ]
  },
  {
   "cell_type": "code",
   "execution_count": 9,
   "metadata": {},
   "outputs": [
    {
     "name": "stdout",
     "output_type": "stream",
     "text": [
      "Diabetes_012            category\n",
      "HighBP                   float64\n",
      "HighChol                 float64\n",
      "CholCheck                float64\n",
      "BMI                      float64\n",
      "Smoker                   float64\n",
      "Stroke                   float64\n",
      "HeartDiseaseorAttack     float64\n",
      "PhysActivity             float64\n",
      "Fruits                   float64\n",
      "Veggies                  float64\n",
      "HvyAlcoholConsump        float64\n",
      "AnyHealthcare            float64\n",
      "NoDocbcCost              float64\n",
      "GenHlth                 category\n",
      "MentHlth                 float64\n",
      "PhysHlth                 float64\n",
      "DiffWalk                 float64\n",
      "Sex                     category\n",
      "Age                      float64\n",
      "Education               category\n",
      "Income                  category\n",
      "dtype: object\n"
     ]
    }
   ],
   "source": [
    "# Verificando a conversão\n",
    "print(df.dtypes)"
   ]
  },
  {
   "cell_type": "markdown",
   "metadata": {},
   "source": [
    "### Remoção dos outliers"
   ]
  },
  {
   "cell_type": "code",
   "execution_count": 10,
   "metadata": {},
   "outputs": [
    {
     "data": {
      "image/png": "[encoded data removed]",
      "text/plain": [
       "<Figure size 640x480 with 1 Axes>"
      ]
     },
     "metadata": {},
     "output_type": "display_data"
    }
   ],
   "source": [
    "sns.boxplot(x=df['BMI'],color='lime')\n",
    "plt.title('Boxplot com outliers')\n",
    "plt.show()"
   ]
  },
  {
   "cell_type": "code",
   "execution_count": 11,
   "metadata": {},
   "outputs": [
    {
     "data": {
      "image/png": "[encoded data removed]",
      "text/plain": [
       "<Figure size 640x480 with 1 Axes>"
      ]
     },
     "metadata": {},
     "output_type": "display_data"
    }
   ],
   "source": [
    "#Determinando limites superiores e inferiores usando intervalo interquantil (IQR) e removendo os dados fora deste limite\n",
    "Q1 = df['BMI'].quantile(0.25)\n",
    "Q2 = df['BMI'].quantile(0.75)\n",
    "IQR = Q1 - Q2\n",
    "#Adicionando um multiplicador para diminuir a agrassividade do IQR\n",
    "multiplicador = 0\n",
    "\n",
    "#Definindo limites inferior e superior\n",
    "LI = Q1 - multiplicador * IQR\n",
    "LS = Q2 + multiplicador * IQR\n",
    "\n",
    "\n",
    "#Removendo os outliers\n",
    "df_tratado = df[(df['BMI'] >= LI) & (df['BMI']<= LS)]\n",
    "\n",
    "sns.boxplot(x=df_tratado['BMI'],color='springgreen')\n",
    "plt.title('Boxplot após remoção de outliers')\n",
    "plt.show()"
   ]
  },
  {
   "cell_type": "markdown",
   "metadata": {},
   "source": [
    "## Estatísticas Descritivas"
   ]
  },
  {
   "cell_type": "code",
   "execution_count": 12,
   "metadata": {},
   "outputs": [
    {
     "data": {
      "text/html": [
       "<div>\n",
       "<style scoped>\n",
       "    .dataframe tbody tr th:only-of-type {\n",
       "        vertical-align: middle;\n",
       "    }\n",
       "\n",
       "    .dataframe tbody tr th {\n",
       "        vertical-align: top;\n",
       "    }\n",
       "\n",
       "    .dataframe thead th {\n",
       "        text-align: right;\n",
       "    }\n",
       "</style>\n",
       "<table border=\"1\" class=\"dataframe\">\n",
       "  <thead>\n",
       "    <tr style=\"text-align: right;\">\n",
       "      <th></th>\n",
       "      <th>HighBP</th>\n",
       "      <th>HighChol</th>\n",
       "      <th>CholCheck</th>\n",
       "      <th>BMI</th>\n",
       "      <th>Smoker</th>\n",
       "      <th>Stroke</th>\n",
       "      <th>HeartDiseaseorAttack</th>\n",
       "      <th>PhysActivity</th>\n",
       "      <th>Fruits</th>\n",
       "      <th>Veggies</th>\n",
       "      <th>HvyAlcoholConsump</th>\n",
       "      <th>AnyHealthcare</th>\n",
       "      <th>NoDocbcCost</th>\n",
       "      <th>MentHlth</th>\n",
       "      <th>PhysHlth</th>\n",
       "      <th>DiffWalk</th>\n",
       "      <th>Age</th>\n",
       "    </tr>\n",
       "  </thead>\n",
       "  <tbody>\n",
       "    <tr>\n",
       "      <th>count</th>\n",
       "      <td>229781.000000</td>\n",
       "      <td>229781.000000</td>\n",
       "      <td>229781.000000</td>\n",
       "      <td>229781.00000</td>\n",
       "      <td>229781.000000</td>\n",
       "      <td>229781.000000</td>\n",
       "      <td>229781.000000</td>\n",
       "      <td>229781.000000</td>\n",
       "      <td>229781.000000</td>\n",
       "      <td>229781.000000</td>\n",
       "      <td>229781.000000</td>\n",
       "      <td>229781.000000</td>\n",
       "      <td>229781.000000</td>\n",
       "      <td>229781.000000</td>\n",
       "      <td>229781.000000</td>\n",
       "      <td>229781.000000</td>\n",
       "      <td>229781.000000</td>\n",
       "    </tr>\n",
       "    <tr>\n",
       "      <th>mean</th>\n",
       "      <td>0.454441</td>\n",
       "      <td>0.441760</td>\n",
       "      <td>0.959535</td>\n",
       "      <td>28.68567</td>\n",
       "      <td>0.465661</td>\n",
       "      <td>0.044756</td>\n",
       "      <td>0.103216</td>\n",
       "      <td>0.733355</td>\n",
       "      <td>0.612966</td>\n",
       "      <td>0.794813</td>\n",
       "      <td>0.060710</td>\n",
       "      <td>0.946075</td>\n",
       "      <td>0.092810</td>\n",
       "      <td>3.505373</td>\n",
       "      <td>4.675178</td>\n",
       "      <td>0.185507</td>\n",
       "      <td>8.086582</td>\n",
       "    </tr>\n",
       "    <tr>\n",
       "      <th>std</th>\n",
       "      <td>0.497921</td>\n",
       "      <td>0.496598</td>\n",
       "      <td>0.197047</td>\n",
       "      <td>6.78636</td>\n",
       "      <td>0.498821</td>\n",
       "      <td>0.206767</td>\n",
       "      <td>0.304241</td>\n",
       "      <td>0.442206</td>\n",
       "      <td>0.487073</td>\n",
       "      <td>0.403839</td>\n",
       "      <td>0.238798</td>\n",
       "      <td>0.225871</td>\n",
       "      <td>0.290167</td>\n",
       "      <td>7.713725</td>\n",
       "      <td>9.046568</td>\n",
       "      <td>0.388709</td>\n",
       "      <td>3.093809</td>\n",
       "    </tr>\n",
       "    <tr>\n",
       "      <th>min</th>\n",
       "      <td>0.000000</td>\n",
       "      <td>0.000000</td>\n",
       "      <td>0.000000</td>\n",
       "      <td>12.00000</td>\n",
       "      <td>0.000000</td>\n",
       "      <td>0.000000</td>\n",
       "      <td>0.000000</td>\n",
       "      <td>0.000000</td>\n",
       "      <td>0.000000</td>\n",
       "      <td>0.000000</td>\n",
       "      <td>0.000000</td>\n",
       "      <td>0.000000</td>\n",
       "      <td>0.000000</td>\n",
       "      <td>0.000000</td>\n",
       "      <td>0.000000</td>\n",
       "      <td>0.000000</td>\n",
       "      <td>1.000000</td>\n",
       "    </tr>\n",
       "    <tr>\n",
       "      <th>25%</th>\n",
       "      <td>0.000000</td>\n",
       "      <td>0.000000</td>\n",
       "      <td>1.000000</td>\n",
       "      <td>24.00000</td>\n",
       "      <td>0.000000</td>\n",
       "      <td>0.000000</td>\n",
       "      <td>0.000000</td>\n",
       "      <td>0.000000</td>\n",
       "      <td>0.000000</td>\n",
       "      <td>1.000000</td>\n",
       "      <td>0.000000</td>\n",
       "      <td>1.000000</td>\n",
       "      <td>0.000000</td>\n",
       "      <td>0.000000</td>\n",
       "      <td>0.000000</td>\n",
       "      <td>0.000000</td>\n",
       "      <td>6.000000</td>\n",
       "    </tr>\n",
       "    <tr>\n",
       "      <th>50%</th>\n",
       "      <td>0.000000</td>\n",
       "      <td>0.000000</td>\n",
       "      <td>1.000000</td>\n",
       "      <td>27.00000</td>\n",
       "      <td>0.000000</td>\n",
       "      <td>0.000000</td>\n",
       "      <td>0.000000</td>\n",
       "      <td>1.000000</td>\n",
       "      <td>1.000000</td>\n",
       "      <td>1.000000</td>\n",
       "      <td>0.000000</td>\n",
       "      <td>1.000000</td>\n",
       "      <td>0.000000</td>\n",
       "      <td>0.000000</td>\n",
       "      <td>0.000000</td>\n",
       "      <td>0.000000</td>\n",
       "      <td>8.000000</td>\n",
       "    </tr>\n",
       "    <tr>\n",
       "      <th>75%</th>\n",
       "      <td>1.000000</td>\n",
       "      <td>1.000000</td>\n",
       "      <td>1.000000</td>\n",
       "      <td>32.00000</td>\n",
       "      <td>1.000000</td>\n",
       "      <td>0.000000</td>\n",
       "      <td>0.000000</td>\n",
       "      <td>1.000000</td>\n",
       "      <td>1.000000</td>\n",
       "      <td>1.000000</td>\n",
       "      <td>0.000000</td>\n",
       "      <td>1.000000</td>\n",
       "      <td>0.000000</td>\n",
       "      <td>2.000000</td>\n",
       "      <td>4.000000</td>\n",
       "      <td>0.000000</td>\n",
       "      <td>10.000000</td>\n",
       "    </tr>\n",
       "    <tr>\n",
       "      <th>max</th>\n",
       "      <td>1.000000</td>\n",
       "      <td>1.000000</td>\n",
       "      <td>1.000000</td>\n",
       "      <td>98.00000</td>\n",
       "      <td>1.000000</td>\n",
       "      <td>1.000000</td>\n",
       "      <td>1.000000</td>\n",
       "      <td>1.000000</td>\n",
       "      <td>1.000000</td>\n",
       "      <td>1.000000</td>\n",
       "      <td>1.000000</td>\n",
       "      <td>1.000000</td>\n",
       "      <td>1.000000</td>\n",
       "      <td>30.000000</td>\n",
       "      <td>30.000000</td>\n",
       "      <td>1.000000</td>\n",
       "      <td>13.000000</td>\n",
       "    </tr>\n",
       "  </tbody>\n",
       "</table>\n",
       "</div>"
      ],
      "text/plain": [
       "              HighBP       HighChol      CholCheck           BMI  \\\n",
       "count  229781.000000  229781.000000  229781.000000  229781.00000   \n",
       "mean        0.454441       0.441760       0.959535      28.68567   \n",
       "std         0.497921       0.496598       0.197047       6.78636   \n",
       "min         0.000000       0.000000       0.000000      12.00000   \n",
       "25%         0.000000       0.000000       1.000000      24.00000   \n",
       "50%         0.000000       0.000000       1.000000      27.00000   \n",
       "75%         1.000000       1.000000       1.000000      32.00000   \n",
       "max         1.000000       1.000000       1.000000      98.00000   \n",
       "\n",
       "              Smoker         Stroke  HeartDiseaseorAttack   PhysActivity  \\\n",
       "count  229781.000000  229781.000000         229781.000000  229781.000000   \n",
       "mean        0.465661       0.044756              0.103216       0.733355   \n",
       "std         0.498821       0.206767              0.304241       0.442206   \n",
       "min         0.000000       0.000000              0.000000       0.000000   \n",
       "25%         0.000000       0.000000              0.000000       0.000000   \n",
       "50%         0.000000       0.000000              0.000000       1.000000   \n",
       "75%         1.000000       0.000000              0.000000       1.000000   \n",
       "max         1.000000       1.000000              1.000000       1.000000   \n",
       "\n",
       "              Fruits        Veggies  HvyAlcoholConsump  AnyHealthcare  \\\n",
       "count  229781.000000  229781.000000      229781.000000  229781.000000   \n",
       "mean        0.612966       0.794813           0.060710       0.946075   \n",
       "std         0.487073       0.403839           0.238798       0.225871   \n",
       "min         0.000000       0.000000           0.000000       0.000000   \n",
       "25%         0.000000       1.000000           0.000000       1.000000   \n",
       "50%         1.000000       1.000000           0.000000       1.000000   \n",
       "75%         1.000000       1.000000           0.000000       1.000000   \n",
       "max         1.000000       1.000000           1.000000       1.000000   \n",
       "\n",
       "         NoDocbcCost       MentHlth       PhysHlth       DiffWalk  \\\n",
       "count  229781.000000  229781.000000  229781.000000  229781.000000   \n",
       "mean        0.092810       3.505373       4.675178       0.185507   \n",
       "std         0.290167       7.713725       9.046568       0.388709   \n",
       "min         0.000000       0.000000       0.000000       0.000000   \n",
       "25%         0.000000       0.000000       0.000000       0.000000   \n",
       "50%         0.000000       0.000000       0.000000       0.000000   \n",
       "75%         0.000000       2.000000       4.000000       0.000000   \n",
       "max         1.000000      30.000000      30.000000       1.000000   \n",
       "\n",
       "                 Age  \n",
       "count  229781.000000  \n",
       "mean        8.086582  \n",
       "std         3.093809  \n",
       "min         1.000000  \n",
       "25%         6.000000  \n",
       "50%         8.000000  \n",
       "75%        10.000000  \n",
       "max        13.000000  "
      ]
     },
     "execution_count": 12,
     "metadata": {},
     "output_type": "execute_result"
    }
   ],
   "source": [
    "# Armazenado descrição (estatísticas descritivas) do dataframe em uma variável\n",
    "descricao_df = df.describe()\n",
    "# Apresentando descrição \n",
    "descricao_df"
   ]
  },
  {
   "cell_type": "markdown",
   "metadata": {},
   "source": [
    "### Médias"
   ]
  },
  {
   "cell_type": "code",
   "execution_count": 13,
   "metadata": {},
   "outputs": [
    {
     "name": "stdout",
     "output_type": "stream",
     "text": [
      "Médias: \n"
     ]
    },
    {
     "data": {
      "text/plain": [
       "HighBP                   0.454441\n",
       "HighChol                 0.441760\n",
       "CholCheck                0.959535\n",
       "BMI                     28.685670\n",
       "Smoker                   0.465661\n",
       "Stroke                   0.044756\n",
       "HeartDiseaseorAttack     0.103216\n",
       "PhysActivity             0.733355\n",
       "Fruits                   0.612966\n",
       "Veggies                  0.794813\n",
       "HvyAlcoholConsump        0.060710\n",
       "AnyHealthcare            0.946075\n",
       "NoDocbcCost              0.092810\n",
       "MentHlth                 3.505373\n",
       "PhysHlth                 4.675178\n",
       "DiffWalk                 0.185507\n",
       "Age                      8.086582\n",
       "Name: mean, dtype: float64"
      ]
     },
     "execution_count": 13,
     "metadata": {},
     "output_type": "execute_result"
    }
   ],
   "source": [
    "print('Médias: ')\n",
    "# Apresenta linha de médias\n",
    "descricao_df.iloc[1]"
   ]
  },
  {
   "cell_type": "markdown",
   "metadata": {},
   "source": [
    "### Medianas"
   ]
  },
  {
   "cell_type": "code",
   "execution_count": 14,
   "metadata": {},
   "outputs": [
    {
     "name": "stdout",
     "output_type": "stream",
     "text": [
      "Medianas: \n"
     ]
    },
    {
     "data": {
      "text/plain": [
       "HighBP                   0.0\n",
       "HighChol                 0.0\n",
       "CholCheck                1.0\n",
       "BMI                     27.0\n",
       "Smoker                   0.0\n",
       "Stroke                   0.0\n",
       "HeartDiseaseorAttack     0.0\n",
       "PhysActivity             1.0\n",
       "Fruits                   1.0\n",
       "Veggies                  1.0\n",
       "HvyAlcoholConsump        0.0\n",
       "AnyHealthcare            1.0\n",
       "NoDocbcCost              0.0\n",
       "MentHlth                 0.0\n",
       "PhysHlth                 0.0\n",
       "DiffWalk                 0.0\n",
       "Age                      8.0\n",
       "Name: 50%, dtype: float64"
      ]
     },
     "execution_count": 14,
     "metadata": {},
     "output_type": "execute_result"
    }
   ],
   "source": [
    "print('Medianas: ')\n",
    "# Apresenta linha de medianas\n",
    "descricao_df.iloc[5]"
   ]
  },
  {
   "cell_type": "markdown",
   "metadata": {},
   "source": [
    "### Desvios Padrões"
   ]
  },
  {
   "cell_type": "code",
   "execution_count": 15,
   "metadata": {},
   "outputs": [
    {
     "name": "stdout",
     "output_type": "stream",
     "text": [
      "Desvios Padrões: \n"
     ]
    },
    {
     "data": {
      "text/plain": [
       "HighBP                  0.497921\n",
       "HighChol                0.496598\n",
       "CholCheck               0.197047\n",
       "BMI                     6.786360\n",
       "Smoker                  0.498821\n",
       "Stroke                  0.206767\n",
       "HeartDiseaseorAttack    0.304241\n",
       "PhysActivity            0.442206\n",
       "Fruits                  0.487073\n",
       "Veggies                 0.403839\n",
       "HvyAlcoholConsump       0.238798\n",
       "AnyHealthcare           0.225871\n",
       "NoDocbcCost             0.290167\n",
       "MentHlth                7.713725\n",
       "PhysHlth                9.046568\n",
       "DiffWalk                0.388709\n",
       "Age                     3.093809\n",
       "Name: std, dtype: float64"
      ]
     },
     "execution_count": 15,
     "metadata": {},
     "output_type": "execute_result"
    }
   ],
   "source": [
    "print('Desvios Padrões: ')\n",
    "# Apresenta linha de desvios padrões\n",
    "descricao_df.iloc[2]"
   ]
  },
  {
   "cell_type": "markdown",
   "metadata": {},
   "source": [
    "### Contagem de dados revelantes "
   ]
  },
  {
   "cell_type": "markdown",
   "metadata": {},
   "source": [
    "Contagem por tipo de diabete"
   ]
  },
  {
   "cell_type": "code",
   "execution_count": 16,
   "metadata": {},
   "outputs": [
    {
     "data": {
      "text/plain": [
       "<Axes: xlabel='Diabetes_012', ylabel='Count'>"
      ]
     },
     "execution_count": 16,
     "metadata": {},
     "output_type": "execute_result"
    },
    {
     "data": {
      "image/png": "[encoded data removed]",
      "text/plain": [
       "<Figure size 640x480 with 1 Axes>"
      ]
     },
     "metadata": {},
     "output_type": "display_data"
    }
   ],
   "source": [
    "sns.histplot(data=df,x='Diabetes_012',color='lime')"
   ]
  },
  {
   "cell_type": "markdown",
   "metadata": {},
   "source": [
    "Contagem por sexo"
   ]
  },
  {
   "cell_type": "code",
   "execution_count": 17,
   "metadata": {},
   "outputs": [
    {
     "data": {
      "text/plain": [
       "<Axes: xlabel='Sex', ylabel='Count'>"
      ]
     },
     "execution_count": 17,
     "metadata": {},
     "output_type": "execute_result"
    },
    {
     "data": {
      "image/png": "[encoded data removed]",
      "text/plain": [
       "<Figure size 640x480 with 1 Axes>"
      ]
     },
     "metadata": {},
     "output_type": "display_data"
    }
   ],
   "source": [
    "sns.histplot(data=df,x='Sex',color='springgreen')"
   ]
  },
  {
   "cell_type": "markdown",
   "metadata": {},
   "source": [
    "Contagem por classificação geral de saúde"
   ]
  },
  {
   "cell_type": "code",
   "execution_count": 18,
   "metadata": {},
   "outputs": [
    {
     "data": {
      "text/plain": [
       "<Axes: xlabel='GenHlth', ylabel='Count'>"
      ]
     },
     "execution_count": 18,
     "metadata": {},
     "output_type": "execute_result"
    },
    {
     "data": {
      "image/png": "[encoded data removed]",
      "text/plain": [
       "<Figure size 640x480 with 1 Axes>"
      ]
     },
     "metadata": {},
     "output_type": "display_data"
    }
   ],
   "source": [
    "sns.histplot(data=df,x='GenHlth',color='lime')"
   ]
  },
  {
   "cell_type": "markdown",
   "metadata": {},
   "source": [
    "## Análise Gráfica"
   ]
  },
  {
   "cell_type": "markdown",
   "metadata": {},
   "source": [
    "Contagem de pressão alta por tipo de diabetes, separado por sexo."
   ]
  },
  {
   "cell_type": "code",
   "execution_count": 19,
   "metadata": {},
   "outputs": [
    {
     "name": "stderr",
     "output_type": "stream",
     "text": [
      "C:\\Users\\ruiam\\AppData\\Local\\Temp\\ipykernel_17708\\2263845688.py:1: FutureWarning: \n",
      "\n",
      "Setting a gradient palette using color= is deprecated and will be removed in v0.14.0. Set `palette='dark:springgreen'` for the same effect.\n",
      "\n",
      "  sns.catplot(data=df,x='Diabetes_012',y='HighBP',kind='bar',hue='Sex',color='springgreen')\n"
     ]
    },
    {
     "data": {
      "text/plain": [
       "<seaborn.axisgrid.FacetGrid at 0x1e1de6452e0>"
      ]
     },
     "execution_count": 19,
     "metadata": {},
     "output_type": "execute_result"
    },
    {
     "data": {
      "image/png": "[encoded data removed]",
      "text/plain": [
       "<Figure size 619.125x500 with 1 Axes>"
      ]
     },
     "metadata": {},
     "output_type": "display_data"
    }
   ],
   "source": [
    "sns.catplot(data=df,x='Diabetes_012',y='HighBP',kind='bar',hue='Sex',color='springgreen')"
   ]
  },
  {
   "cell_type": "markdown",
   "metadata": {},
   "source": [
    "Distribuição de qualidade geral de saúde por tipo de diabetes. "
   ]
  },
  {
   "cell_type": "code",
   "execution_count": 20,
   "metadata": {},
   "outputs": [
    {
     "data": {
      "text/plain": [
       "<Axes: xlabel='Diabetes_012', ylabel='GenHlth'>"
      ]
     },
     "execution_count": 20,
     "metadata": {},
     "output_type": "execute_result"
    },
    {
     "data": {
      "image/png": "[encoded data removed]",
      "text/plain": [
       "<Figure size 640x480 with 1 Axes>"
      ]
     },
     "metadata": {},
     "output_type": "display_data"
    }
   ],
   "source": [
    "sns.boxplot(data=df,x='Diabetes_012',y='GenHlth',color='lime')"
   ]
  },
  {
   "cell_type": "markdown",
   "metadata": {},
   "source": [
    "Contagem de escala de renda por tipo de diabetes, separada por sexo."
   ]
  },
  {
   "cell_type": "code",
   "execution_count": 21,
   "metadata": {},
   "outputs": [
    {
     "name": "stderr",
     "output_type": "stream",
     "text": [
      "C:\\Users\\ruiam\\AppData\\Local\\Temp\\ipykernel_17708\\756946148.py:1: FutureWarning: \n",
      "\n",
      "Setting a gradient palette using color= is deprecated and will be removed in v0.14.0. Set `palette='dark:springgreen'` for the same effect.\n",
      "\n",
      "  g = sns.catplot(data=df,x='Diabetes_012',y='Income',kind='bar',hue='Sex',color='springgreen')\n"
     ]
    },
    {
     "data": {
      "image/png": "[encoded data removed]",
      "text/plain": [
       "<Figure size 619.125x500 with 1 Axes>"
      ]
     },
     "metadata": {},
     "output_type": "display_data"
    }
   ],
   "source": [
    "g = sns.catplot(data=df,x='Diabetes_012',y='Income',kind='bar',hue='Sex',color='springgreen')\n",
    "g.ax.invert_yaxis()"
   ]
  },
  {
   "cell_type": "markdown",
   "metadata": {},
   "source": [
    "Contagem de pressão alta por tipo de diabetes, separado por colesterol alto."
   ]
  },
  {
   "cell_type": "code",
   "execution_count": 22,
   "metadata": {},
   "outputs": [
    {
     "name": "stderr",
     "output_type": "stream",
     "text": [
      "C:\\Users\\ruiam\\AppData\\Local\\Temp\\ipykernel_17708\\2685304981.py:1: FutureWarning: \n",
      "\n",
      "Setting a gradient palette using color= is deprecated and will be removed in v0.14.0. Set `palette='dark:lime'` for the same effect.\n",
      "\n",
      "  sns.barplot(data=df,x='Diabetes_012',y='HighBP',hue='HighChol',color='lime')\n"
     ]
    },
    {
     "data": {
      "text/plain": [
       "<Axes: xlabel='Diabetes_012', ylabel='HighBP'>"
      ]
     },
     "execution_count": 22,
     "metadata": {},
     "output_type": "execute_result"
    },
    {
     "data": {
      "image/png": "[encoded data removed]",
      "text/plain": [
       "<Figure size 640x480 with 1 Axes>"
      ]
     },
     "metadata": {},
     "output_type": "display_data"
    }
   ],
   "source": [
    "sns.barplot(data=df,x='Diabetes_012',y='HighBP',hue='HighChol',color='lime')"
   ]
  },
  {
   "cell_type": "markdown",
   "metadata": {},
   "source": [
    "## Testes de Hipóteses"
   ]
  },
  {
   "cell_type": "markdown",
   "metadata": {},
   "source": [
    "### Hipótese 1"
   ]
  },
  {
   "cell_type": "markdown",
   "metadata": {},
   "source": [
    "Acreditamos que será possível prever se um paciente possui diabetes baseado nos campos com correlação positiva."
   ]
  },
  {
   "cell_type": "code",
   "execution_count": 23,
   "metadata": {},
   "outputs": [
    {
     "name": "stdout",
     "output_type": "stream",
     "text": [
      "Colunas com correlações positivas:\n",
      "------------------------------\n",
      "Diabetes_012\n",
      "HighBP\n",
      "HighChol\n",
      "CholCheck\n",
      "BMI\n",
      "Smoker\n",
      "Stroke\n",
      "HeartDiseaseorAttack\n",
      "AnyHealthcare\n",
      "NoDocbcCost\n",
      "GenHlth\n",
      "MentHlth\n",
      "PhysHlth\n",
      "DiffWalk\n",
      "Sex\n",
      "Age\n"
     ]
    }
   ],
   "source": [
    "# Cria e armazena a matriz de correlação\n",
    "matrix_corr = df_original.corr()\n",
    "# Separa apenas as com correlação positiva\n",
    "matrix_corr_diabetes_positivas = matrix_corr['Diabetes_012'][matrix_corr['Diabetes_012'] > 0]\n",
    "# Apresenta as colunas\n",
    "print('Colunas com correlações positivas:')\n",
    "print('-'*30)\n",
    "for each in list(matrix_corr_diabetes_positivas.keys()):\n",
    "    print(each)"
   ]
  },
  {
   "cell_type": "markdown",
   "metadata": {},
   "source": [
    "Mapa de calor das correlações"
   ]
  },
  {
   "cell_type": "code",
   "execution_count": 24,
   "metadata": {},
   "outputs": [
    {
     "data": {
      "text/plain": [
       "<Axes: >"
      ]
     },
     "execution_count": 24,
     "metadata": {},
     "output_type": "execute_result"
    },
    {
     "data": {
      "image/png": "[encoded data removed]",
      "text/plain": [
       "<Figure size 640x480 with 2 Axes>"
      ]
     },
     "metadata": {},
     "output_type": "display_data"
    }
   ],
   "source": [
    "sns.heatmap(matrix_corr[['Diabetes_012']],annot=True)"
   ]
  },
  {
   "cell_type": "markdown",
   "metadata": {},
   "source": [
    "Previsao Diabetes"
   ]
  },
  {
   "cell_type": "code",
   "execution_count": 25,
   "metadata": {},
   "outputs": [],
   "source": [
    "# Cria e armazena uma copia do dataframe\n",
    "df_copia = df_original.copy()\n",
    "# Separa os dados Y (coluna que será feita a previsão)\n",
    "Y = df_copia.Diabetes_012\n",
    "# Remove esta coluna\n",
    "del df_copia['Diabetes_012']\n",
    "\n",
    "# Separa apenas colunas com correlação positiva\n",
    "df_copia = df_copia[['HighBP', 'HighChol', 'CholCheck', 'BMI', 'Smoker',\n",
    "       'Stroke', 'HeartDiseaseorAttack', 'AnyHealthcare', 'NoDocbcCost',\n",
    "       'GenHlth', 'MentHlth', 'PhysHlth', 'DiffWalk', 'Sex', 'Age']]\n",
    "\n",
    "# Separa os dados X normalizados (colunas para prever Y)\n",
    "X = pd.DataFrame(MinMaxScaler().fit_transform(df_copia),columns=df_copia.columns)\n",
    "\n",
    "# Separação de dados de treino(70%) e teste(30%)\n",
    "x_train,x_test,y_train,y_test = train_test_split(X,Y,test_size=0.3,random_state=42)"
   ]
  },
  {
   "cell_type": "code",
   "execution_count": 26,
   "metadata": {},
   "outputs": [
    {
     "name": "stdout",
     "output_type": "stream",
     "text": [
      "O Modelo de regressão logística apresentou uma acurácia de: 83.22%\n"
     ]
    }
   ],
   "source": [
    "# Cria e armazena um modelo de regressão logística\n",
    "model = LogisticRegression(max_iter=5000,random_state=101)\n",
    "# Treina o modelo\n",
    "model.fit(x_train,y_train)\n",
    "# Armazena a acurácia do modelo\n",
    "score = model.score(x_test,y_test)\n",
    "print(f'O Modelo de regressão logística apresentou uma acurácia de: {round(score*100,2)}%')"
   ]
  },
  {
   "cell_type": "markdown",
   "metadata": {},
   "source": [
    "### Hipótese 2"
   ]
  },
  {
   "cell_type": "markdown",
   "metadata": {},
   "source": [
    "Temos por hipótese que hábitos de vida saudável influenciam diretamente a classificação pessoal de qualidade de vida."
   ]
  },
  {
   "cell_type": "code",
   "execution_count": 27,
   "metadata": {},
   "outputs": [
    {
     "name": "stdout",
     "output_type": "stream",
     "text": [
      "Matrix de correlçao do campo GenHlth (classificação pessoal de qualidade de vida): \n",
      "------------------------------\n"
     ]
    },
    {
     "data": {
      "text/plain": [
       "Diabetes_012            0.284881\n",
       "HighBP                  0.272562\n",
       "HighChol                0.187929\n",
       "CholCheck               0.062782\n",
       "BMI                     0.208411\n",
       "Smoker                  0.134979\n",
       "Stroke                  0.169870\n",
       "HeartDiseaseorAttack    0.246411\n",
       "PhysActivity           -0.237676\n",
       "Fruits                 -0.071433\n",
       "Veggies                -0.094345\n",
       "HvyAlcoholConsump      -0.055598\n",
       "AnyHealthcare          -0.023384\n",
       "NoDocbcCost             0.149785\n",
       "GenHlth                 1.000000\n",
       "MentHlth                0.283949\n",
       "PhysHlth                0.516508\n",
       "DiffWalk                0.446735\n",
       "Sex                    -0.010594\n",
       "Age                     0.145430\n",
       "Education              -0.244963\n",
       "Income                 -0.331935\n",
       "Name: GenHlth, dtype: float64"
      ]
     },
     "execution_count": 27,
     "metadata": {},
     "output_type": "execute_result"
    }
   ],
   "source": [
    "print('Matrix de correlçao do campo GenHlth (classificação pessoal de qualidade de vida): ')\n",
    "print('-'*30)\n",
    "matrix_corr['GenHlth']"
   ]
  },
  {
   "cell_type": "code",
   "execution_count": 28,
   "metadata": {},
   "outputs": [],
   "source": [
    "# Separa os dados Y (coluna que será feita a previsão)\n",
    "Y = df_original.GenHlth\n",
    "\n",
    "# Separa apenas colunas com correlação positiva\n",
    "df_copia = df_original[['PhysActivity', 'Fruits','Veggies','HvyAlcoholConsump']]\n",
    "\n",
    "# Separa os dados X normalizados (colunas para prever Y)\n",
    "X = pd.DataFrame(MinMaxScaler().fit_transform(df_copia),columns=df_copia.columns)\n",
    "\n",
    "# Separação de dados de treino(70%) e teste(30%)\n",
    "x_train,x_test,y_train,y_test = train_test_split(X,Y,test_size=0.3,random_state=42)"
   ]
  },
  {
   "cell_type": "code",
   "execution_count": 29,
   "metadata": {},
   "outputs": [
    {
     "name": "stdout",
     "output_type": "stream",
     "text": [
      "O Modelo de regressão logística apresentou uma acurácia de: 36.05%\n"
     ]
    }
   ],
   "source": [
    "# Cria e armazena um modelo de regressão logística\n",
    "model = LogisticRegression(max_iter=5000,random_state=101)\n",
    "# Treina o modelo\n",
    "model.fit(x_train,y_train)\n",
    "# Armazena a acurácia do modelo\n",
    "score = model.score(x_test,y_test)\n",
    "print(f'O Modelo de regressão logística apresentou uma acurácia de: {round(score*100,2)}%')"
   ]
  }
 ],
 "metadata": {
  "kernelspec": {
   "display_name": "Python 3",
   "language": "python",
   "name": "python3"
  },
  "language_info": {
   "codemirror_mode": {
    "name": "ipython",
    "version": 3
   },
   "file_extension": ".py",
   "mimetype": "text/x-python",
   "name": "python",
   "nbconvert_exporter": "python",
   "pygments_lexer": "ipython3",
   "version": "3.12.2"
  }
 },
 "nbformat": 4,
 "nbformat_minor": 2
}
